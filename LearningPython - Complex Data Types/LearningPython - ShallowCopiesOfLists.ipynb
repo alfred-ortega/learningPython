{
 "cells": [
  {
   "cell_type": "markdown",
   "metadata": {},
   "source": [
    "In Python there are two types of copies. A \"Shallow\" copy which is really just a reference to the original data. So if the original source changes so does the \"shallow\" copy. A \"Deep\" copy by contrast is a true and independent copy of the data. If the original data changes the \"deep\" copy is unaffected."
   ]
  },
  {
   "cell_type": "code",
   "execution_count": 23,
   "metadata": {},
   "outputs": [
    {
     "name": "stdout",
     "output_type": "stream",
     "text": [
      "['Sarah', 'David', 'Warner', 'Sandy']\n"
     ]
    }
   ],
   "source": [
    "names = [\"Sarah\",\"David\",\"Warner\",\"Sandy\"]\n",
    "print(names)"
   ]
  },
  {
   "cell_type": "code",
   "execution_count": 24,
   "metadata": {},
   "outputs": [
    {
     "name": "stdout",
     "output_type": "stream",
     "text": [
      "['Sarah', 'David', 'Warner', 'Sandy']\n",
      "['Sarah', 'David', 'Warner', 'Sandy']\n",
      "['Sarah', 'David', 'Billy', 'Sandy']\n",
      "['Sarah', 'David', 'Billy', 'Sandy']\n"
     ]
    }
   ],
   "source": [
    "new_names = names\n",
    "print(names)\n",
    "print(new_names)\n",
    "new_names[2] = \"Billy\"    #since this is a shallow copy changing either set changes both.\n",
    "print(names)\n",
    "print(new_names)"
   ]
  },
  {
   "cell_type": "code",
   "execution_count": 25,
   "metadata": {},
   "outputs": [
    {
     "name": "stdout",
     "output_type": "stream",
     "text": [
      "['Sarah', 'David', 'Warner', 'Sandy']\n",
      "['Sarah', 'David', 'Warner', 'Sandy']\n"
     ]
    }
   ],
   "source": [
    "import copy\n",
    "names = [\"Sarah\",\"David\",\"Warner\",\"Sandy\"]\n",
    "names2 = copy.copy(names)   #A deepcopy is made even though it wasn't specifically stated to do so with a call to deepcopy.\n",
    "print(names)\n",
    "print(names2)\n",
    "\n",
    "\n"
   ]
  },
  {
   "cell_type": "code",
   "execution_count": 26,
   "metadata": {},
   "outputs": [
    {
     "name": "stdout",
     "output_type": "stream",
     "text": [
      "['Sarah', 'David', 'Warner', 'Sandy']\n",
      "['George', 'David', 'Warner', 'Sandy']\n"
     ]
    }
   ],
   "source": [
    "names2[0]=\"George\"   #With a deep copy when the data is changed in the copy no impact is made on the original dataset.\n",
    "print(names)\n",
    "print(names2)"
   ]
  },
  {
   "cell_type": "markdown",
   "metadata": {},
   "source": [
    "The following will produce a deep copy of the OUTER list but a shallow copy of the inner list. This means that changes made to items in the lists are reflected in both lists. But changes made to the outer list are not."
   ]
  },
  {
   "cell_type": "code",
   "execution_count": 27,
   "metadata": {},
   "outputs": [
    {
     "name": "stdout",
     "output_type": "stream",
     "text": [
      "[[1, 2, 3], [4, 5, 6], [7, 8, 9]]\n",
      "[[1, 2, 3], [4, 5, 6], [7, 8, 9]]\n"
     ]
    }
   ],
   "source": [
    "old_list = [[1,2,3],[4,5,6],[7,8,9]]\n",
    "new_list = copy.copy(old_list)  #this produces a deep copy of the OUTER list but a shallow copy of the inner list. \n",
    "print(old_list)\n",
    "print(new_list)\n"
   ]
  },
  {
   "cell_type": "code",
   "execution_count": 28,
   "metadata": {},
   "outputs": [
    {
     "name": "stdout",
     "output_type": "stream",
     "text": [
      "[[1, 2, 3], [4, 5, 0], [7, 8, 9]]\n",
      "[[1, 2, 3], [4, 5, 0], [7, 8, 9]]\n"
     ]
    }
   ],
   "source": [
    "new_list[1][2] = 0    #Shallow change made on new_List is reflected in both\n",
    "print(old_list)\n",
    "print(new_list)"
   ]
  },
  {
   "cell_type": "code",
   "execution_count": 29,
   "metadata": {},
   "outputs": [
    {
     "name": "stdout",
     "output_type": "stream",
     "text": [
      "[[1, 2, 3], [4, 5, 0], [7, 8, 9, 10]]\n",
      "[[1, 2, 3], [4, 5, 0], [7, 8, 9, 10]]\n"
     ]
    }
   ],
   "source": [
    "new_list[2].append(10)    #Shallow change made on old_List is reflected in both\n",
    "print(old_list)\n",
    "print(new_list)"
   ]
  },
  {
   "cell_type": "code",
   "execution_count": 30,
   "metadata": {},
   "outputs": [
    {
     "name": "stdout",
     "output_type": "stream",
     "text": [
      "[[1, 2, 3], [4, 5, 0], [7, 8, 9, 10], [10, 11, 12]]\n",
      "[[1, 2, 3], [4, 5, 0], [7, 8, 9, 10]]\n"
     ]
    }
   ],
   "source": [
    "old_list.append([10,11,12])    #Deep change made on old_List is only reflected in the old list\n",
    "print(old_list)\n",
    "print(new_list)"
   ]
  }
 ],
 "metadata": {
  "kernelspec": {
   "display_name": "Python 3",
   "language": "python",
   "name": "python3"
  },
  "language_info": {
   "codemirror_mode": {
    "name": "ipython",
    "version": 3
   },
   "file_extension": ".py",
   "mimetype": "text/x-python",
   "name": "python",
   "nbconvert_exporter": "python",
   "pygments_lexer": "ipython3",
   "version": "3.12.3"
  }
 },
 "nbformat": 4,
 "nbformat_minor": 2
}
