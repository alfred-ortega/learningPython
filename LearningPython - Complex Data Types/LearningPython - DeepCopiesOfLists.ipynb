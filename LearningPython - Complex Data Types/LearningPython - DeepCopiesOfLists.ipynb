{
 "cells": [
  {
   "cell_type": "markdown",
   "metadata": {},
   "source": [
    "In Python there are two types of copies. A \"Shallow\" copy which is really just a reference to the original data. So if the original source changes so does the \"shallow\" copy. A \"Deep\" copy by contrast is a true and independent copy of the data. If the original data changes the \"deep\" copy is unaffected."
   ]
  },
  {
   "cell_type": "code",
   "execution_count": 1,
   "metadata": {},
   "outputs": [
    {
     "name": "stdout",
     "output_type": "stream",
     "text": [
      "['Sarah', 'David', 'Warner', 'Sandy']\n",
      "['Sarah', 'David', 'Warner', 'Sandy']\n",
      "['Sarah', 'David', 'Warner', 'Sandy']\n",
      "['George', 'David', 'Warner', 'Sandy']\n"
     ]
    }
   ],
   "source": [
    "names = [\"Sarah\",\"David\",\"Warner\",\"Sandy\"]\n",
    "names2 = names.copy() # using the copy function from the list itself produces a deep copy\n",
    "print(names)\n",
    "print(names2)\n",
    "names2[0]=\"George\"   #With a deep copy when the data is changed in the copy no impact is made on the original dataset.\n",
    "print(names)\n",
    "print(names2)"
   ]
  },
  {
   "cell_type": "code",
   "execution_count": 2,
   "metadata": {},
   "outputs": [
    {
     "name": "stdout",
     "output_type": "stream",
     "text": [
      "['google', 'facebook', 'reddit']\n",
      "['google', 'facebook', 'reddit']\n"
     ]
    }
   ],
   "source": [
    "import copy\n",
    "companies = [\"google\",\"facebook\",\"reddit\"]\n",
    "new_companies = copy.deepcopy(companies)\n",
    "print(companies)\n",
    "print(new_companies)"
   ]
  },
  {
   "cell_type": "code",
   "execution_count": 4,
   "metadata": {},
   "outputs": [
    {
     "name": "stdout",
     "output_type": "stream",
     "text": [
      "['google', 'facebook', 'reddit']\n",
      "['google', 'sam adams', 'reddit']\n"
     ]
    }
   ],
   "source": [
    "new_companies[1] = \"sam adams\"\n",
    "print(companies)\n",
    "print(new_companies)"
   ]
  },
  {
   "cell_type": "code",
   "execution_count": 5,
   "metadata": {},
   "outputs": [
    {
     "name": "stdout",
     "output_type": "stream",
     "text": [
      "[[1, 2, 3], [4, 5, 6], [7, 8, 9]]\n",
      "[[1, 2, 3], [4, 5, 6], [7, 8, 9]]\n"
     ]
    }
   ],
   "source": [
    "old_list = [[1,2,3],[4,5,6],[7,8,9]]\n",
    "new_list = copy.deepcopy(old_list)\n",
    "print(old_list)\n",
    "print(new_list)"
   ]
  },
  {
   "cell_type": "code",
   "execution_count": 6,
   "metadata": {},
   "outputs": [
    {
     "name": "stdout",
     "output_type": "stream",
     "text": [
      "[[1, 2, 3], [4, 5, 99], [7, 8, 9]]\n",
      "[[1, 2, 3], [4, 5, 6], [7, 8, 9]]\n"
     ]
    }
   ],
   "source": [
    "old_list[1][2] = 99\n",
    "print(old_list)\n",
    "print(new_list)"
   ]
  },
  {
   "cell_type": "code",
   "execution_count": 11,
   "metadata": {},
   "outputs": [
    {
     "name": "stdout",
     "output_type": "stream",
     "text": [
      "['google', 'facebook', 'reddit']\n",
      "['google', 'facebook', 'reddit']\n",
      "['Moosehead', 'facebook', 'reddit']\n",
      "['google', 'Sam Adams', 'reddit']\n"
     ]
    }
   ],
   "source": [
    "#using slicing to create a deep list\n",
    "companies = [\"google\",\"facebook\",\"reddit\"]\n",
    "sliced_list = companies[:]\n",
    "print(companies)\n",
    "print(sliced_list)\n",
    "companies[0] = \"Moosehead\"\n",
    "sliced_list[1] = \"Sam Adams\"\n",
    "print(companies)\n",
    "print(sliced_list)"
   ]
  }
 ],
 "metadata": {
  "kernelspec": {
   "display_name": "Python 3",
   "language": "python",
   "name": "python3"
  },
  "language_info": {
   "codemirror_mode": {
    "name": "ipython",
    "version": 3
   },
   "file_extension": ".py",
   "mimetype": "text/x-python",
   "name": "python",
   "nbconvert_exporter": "python",
   "pygments_lexer": "ipython3",
   "version": "3.12.3"
  }
 },
 "nbformat": 4,
 "nbformat_minor": 2
}
