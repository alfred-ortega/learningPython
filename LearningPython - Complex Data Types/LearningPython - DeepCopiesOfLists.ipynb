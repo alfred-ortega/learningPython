{
 "cells": [
  {
   "cell_type": "markdown",
   "metadata": {},
   "source": [
    "In Python there are two types of copies. A \"Shallow\" copy which is really just a reference to the original data. So if the original source changes so does the \"shallow\" copy. A \"Deep\" copy by contrast is a true and independent copy of the data. If the original data changes the \"deep\" copy is unaffected."
   ]
  },
  {
   "cell_type": "code",
   "execution_count": null,
   "metadata": {},
   "outputs": [
    {
     "name": "stdout",
     "output_type": "stream",
     "text": [
      "['Sarah', 'David', 'Warner', 'Sandy']\n",
      "['Sarah', 'David', 'Warner', 'Sandy']\n",
      "['Sarah', 'David', 'Warner', 'Sandy']\n",
      "['Sarah', 'David', 'Warner', 'Sandy']\n",
      "['George', 'David', 'Warner', 'Sandy']\n"
     ]
    }
   ],
   "source": [
    "import copy\n",
    "names = [\"Sarah\",\"David\",\"Warner\",\"Sandy\"]\n",
    "print(names)\n",
    "names2 = copy.deepcopy(names)\n",
    "print(names)\n",
    "print(names2)\n",
    "names2[0]=\"George\"   #With a deep copy when the data is changed in the copy no impact is made on the original dataset.\n",
    "print(names)\n",
    "print(names2)"
   ]
  },
  {
   "cell_type": "code",
   "execution_count": null,
   "metadata": {},
   "outputs": [],
   "source": []
  },
  {
   "cell_type": "code",
   "execution_count": null,
   "metadata": {},
   "outputs": [],
   "source": []
  }
 ],
 "metadata": {
  "kernelspec": {
   "display_name": "Python 3",
   "language": "python",
   "name": "python3"
  },
  "language_info": {
   "codemirror_mode": {
    "name": "ipython",
    "version": 3
   },
   "file_extension": ".py",
   "mimetype": "text/x-python",
   "name": "python",
   "nbconvert_exporter": "python",
   "pygments_lexer": "ipython3",
   "version": "3.12.3"
  }
 },
 "nbformat": 4,
 "nbformat_minor": 2
}
