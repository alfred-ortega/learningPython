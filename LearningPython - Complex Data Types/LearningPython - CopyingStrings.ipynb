{
 "cells": [
  {
   "cell_type": "markdown",
   "metadata": {},
   "source": [
    "In Python there are two types of copies. A \"Shallow\" copy which is really just a reference to the original data. So if the original source changes so does the \"shallow\" copy. A \"Deep\" copy by contrast is a true and independent copy of the data. If the original data changes the \"deep\" copy is unaffected."
   ]
  },
  {
   "cell_type": "code",
   "execution_count": 1,
   "metadata": {},
   "outputs": [
    {
     "name": "stdout",
     "output_type": "stream",
     "text": [
      "Python\n"
     ]
    }
   ],
   "source": [
    "old_str = \"Python\"\n",
    "print(old_str)"
   ]
  },
  {
   "cell_type": "code",
   "execution_count": null,
   "metadata": {},
   "outputs": [
    {
     "name": "stdout",
     "output_type": "stream",
     "text": [
      "Python\n",
      "Python\n"
     ]
    }
   ],
   "source": [
    "new_str = old_str\n",
    "print(old_str)\n",
    "print(new_str)\n"
   ]
  },
  {
   "cell_type": "code",
   "execution_count": null,
   "metadata": {},
   "outputs": [
    {
     "name": "stdout",
     "output_type": "stream",
     "text": [
      "Will\n",
      "Will\n",
      "Will\n"
     ]
    }
   ],
   "source": [
    "import copy\n",
    "name = \"Will\"\n",
    "new_name = name\n",
    "name_copy = copy.copy(name)\n",
    "print(name)\n",
    "print(new_name)\n",
    "print(name_copy)\n",
    "name_deepcopy = copy.deepcopy(name)\n",
    "print(name_deepcopy)\n",
    "print"
   ]
  }
 ],
 "metadata": {
  "kernelspec": {
   "display_name": "Python 3",
   "language": "python",
   "name": "python3"
  },
  "language_info": {
   "codemirror_mode": {
    "name": "ipython",
    "version": 3
   },
   "file_extension": ".py",
   "mimetype": "text/x-python",
   "name": "python",
   "nbconvert_exporter": "python",
   "pygments_lexer": "ipython3",
   "version": "3.12.3"
  }
 },
 "nbformat": 4,
 "nbformat_minor": 2
}
