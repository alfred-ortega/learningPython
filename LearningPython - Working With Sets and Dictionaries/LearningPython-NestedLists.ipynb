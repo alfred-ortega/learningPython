{
 "cells": [
  {
   "cell_type": "code",
   "execution_count": 8,
   "metadata": {},
   "outputs": [
    {
     "name": "stdout",
     "output_type": "stream",
     "text": [
      "[['Hennessey Venom GT', 1244, 'Red'], ['SSC Ultimate Aero', 1287, 'Blue'], ['Zenvo ST1', 1100, 'White']]\n"
     ]
    }
   ],
   "source": [
    "car_matrix = [[\"Hennessey Venom GT\", 1244,\"Red\"],\n",
    "              [\"SSC Ultimate Aero\", 1287, \"Blue\"],\n",
    "              [\"Zenvo ST1\", 1100, \"White\"]]\n",
    "print(car_matrix)"
   ]
  },
  {
   "cell_type": "code",
   "execution_count": 9,
   "metadata": {},
   "outputs": [
    {
     "name": "stdout",
     "output_type": "stream",
     "text": [
      "White\n"
     ]
    }
   ],
   "source": [
    "print(car_matrix[2][2])"
   ]
  },
  {
   "cell_type": "code",
   "execution_count": 27,
   "metadata": {},
   "outputs": [
    {
     "name": "stdout",
     "output_type": "stream",
     "text": [
      "[2, 3, 4]\n",
      "[0, 1, 2, 3, 4]\n",
      "[5, 6, 7, 8, 9]\n",
      "[1, 3, 5, 7]\n",
      "9\n",
      "[7, 8]\n",
      "[9, 8, 7, 6, 5, 4, 3, 2, 1, 0]\n"
     ]
    }
   ],
   "source": [
    "#slicing is a way to get a portion of a list. The : is a divider and it takes up to three\n",
    "#paraments start, end, and step\n",
    "my_list = [0, 1, 2, 3, 4, 5, 6, 7, 8, 9]\n",
    "\n",
    "# Basic slicing\n",
    "print(my_list[2:5])  # Output: [2, 3, 4]\n",
    "# Slicing with default start and end\n",
    "print(my_list[:5])   # Output: [0, 1, 2, 3, 4]\n",
    "print(my_list[5:])  # Output: [5, 6, 7, 8, 9]\n",
    "# Slicing with step\n",
    "print(my_list[1:8:2]) # Output: [1, 3, 5, 7]\n",
    "\n",
    "# Negative indexing and slicing\n",
    "print(my_list[-1])  # Output: 9\n",
    "print(my_list[-3:-1]) # Output: [7, 8]\n",
    "\n",
    "# Reverse slicing\n",
    "print(my_list[::-1]) # Output: [9, 8, 7, 6, 5, 4, 3, 2, 1, 0]"
   ]
  },
  {
   "cell_type": "code",
   "execution_count": 31,
   "metadata": {},
   "outputs": [
    {
     "name": "stdout",
     "output_type": "stream",
     "text": [
      "['a', 'g', 'e', 't', 'r', 'O', ' ', 'd', 'e', 'r', 'f', 'l', 'A']\n",
      "['a', 'z', 'n', 'a', 't', 's', 'o', 'C', ' ', 'e', 'g', 'r', 'o', 'e', 'G']\n"
     ]
    }
   ],
   "source": [
    "me = \"Alfred Ortega\"\n",
    "me_list = list(me)\n",
    "print(me_list[::-1])\n",
    "print(list(\"George Costanza\")[::-1])"
   ]
  }
 ],
 "metadata": {
  "kernelspec": {
   "display_name": "Python 3",
   "language": "python",
   "name": "python3"
  },
  "language_info": {
   "codemirror_mode": {
    "name": "ipython",
    "version": 3
   },
   "file_extension": ".py",
   "mimetype": "text/x-python",
   "name": "python",
   "nbconvert_exporter": "python",
   "pygments_lexer": "ipython3",
   "version": "3.12.3"
  }
 },
 "nbformat": 4,
 "nbformat_minor": 2
}
