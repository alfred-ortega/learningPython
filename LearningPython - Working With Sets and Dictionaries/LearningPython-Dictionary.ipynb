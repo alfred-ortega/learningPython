{
 "cells": [
  {
   "cell_type": "code",
   "execution_count": 18,
   "metadata": {},
   "outputs": [],
   "source": [
    "owner = \"bike_owner\"\n",
    "address = \"address\"\n",
    "city = \"city\"\n",
    "state = \"state\"\n",
    "bike_details = {\"bike_owner\":{\"first_name\":\"Alfred\",\n",
    "                              \"last_name\":\"Ortega\",\n",
    "                              \"email\":\"some_email@live.com\",\n",
    "                              \"address\": {\"street\" : \"7724 Terry Ct\",\n",
    "                                          \"city\" : \"Arvada\",\n",
    "                                          \"state\" : \"CO\"\n",
    "                                         }\n",
    "                             },\n",
    "                \"bike_model\":\"Ducati Monster 1200\",\n",
    "                \"bike_price\":28140,\n",
    "                \"engine_displacement\":1197}"
   ]
  },
  {
   "cell_type": "code",
   "execution_count": null,
   "metadata": {},
   "outputs": [
    {
     "ename": "KeyError",
     "evalue": "'Tim'",
     "output_type": "error",
     "traceback": [
      "\u001b[31m---------------------------------------------------------------------------\u001b[39m",
      "\u001b[31mKeyError\u001b[39m                                  Traceback (most recent call last)",
      "\u001b[36mCell\u001b[39m\u001b[36m \u001b[39m\u001b[32mIn[1]\u001b[39m\u001b[32m, line 2\u001b[39m\n\u001b[32m      1\u001b[39m names_age = {\u001b[33m'\u001b[39m\u001b[33mJohn\u001b[39m\u001b[33m'\u001b[39m:\u001b[32m35\u001b[39m,\u001b[33m'\u001b[39m\u001b[33mJim\u001b[39m\u001b[33m'\u001b[39m:\u001b[32m45\u001b[39m,\u001b[33m'\u001b[39m\u001b[33mAlice\u001b[39m\u001b[33m'\u001b[39m:\u001b[32m25\u001b[39m}\n\u001b[32m----> \u001b[39m\u001b[32m2\u001b[39m \u001b[38;5;28mprint\u001b[39m(\u001b[43mnames_age\u001b[49m\u001b[43m[\u001b[49m\u001b[33;43m'\u001b[39;49m\u001b[33;43mTim\u001b[39;49m\u001b[33;43m'\u001b[39;49m\u001b[43m]\u001b[49m)\n",
      "\u001b[31mKeyError\u001b[39m: 'Tim'"
     ]
    }
   ],
   "source": [
    "names_age = {'John':35,'Jim':45,'Alice':25}\n",
    "print(names_age['Tim'])    #will produce an error because there is no entry for Tim"
   ]
  },
  {
   "cell_type": "code",
   "execution_count": 21,
   "metadata": {},
   "outputs": [
    {
     "name": "stdout",
     "output_type": "stream",
     "text": [
      "Arvada , CO\n"
     ]
    }
   ],
   "source": [
    "print(bike_details[owner][address][city],',',bike_details[owner][address][state])"
   ]
  }
 ],
 "metadata": {
  "kernelspec": {
   "display_name": "Python 3",
   "language": "python",
   "name": "python3"
  },
  "language_info": {
   "codemirror_mode": {
    "name": "ipython",
    "version": 3
   },
   "file_extension": ".py",
   "mimetype": "text/x-python",
   "name": "python",
   "nbconvert_exporter": "python",
   "pygments_lexer": "ipython3",
   "version": "3.12.3"
  }
 },
 "nbformat": 4,
 "nbformat_minor": 2
}
