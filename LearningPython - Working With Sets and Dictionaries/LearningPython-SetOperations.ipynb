{
 "cells": [
  {
   "cell_type": "code",
   "execution_count": 34,
   "metadata": {},
   "outputs": [],
   "source": [
    "number_1 = {1,2,3,4,5}\n",
    "number_2 = {4,5,6,7,8}\n",
    "number_3 = {7,8,9,10,11}"
   ]
  },
  {
   "cell_type": "code",
   "execution_count": 35,
   "metadata": {},
   "outputs": [
    {
     "name": "stdout",
     "output_type": "stream",
     "text": [
      "{1, 2, 3, 4, 5, 6, 7, 8}\n"
     ]
    }
   ],
   "source": [
    "unioned_numbers = number_1.union(number_2)\n",
    "print(unioned_numbers)"
   ]
  },
  {
   "cell_type": "code",
   "execution_count": 36,
   "metadata": {},
   "outputs": [],
   "source": [
    "students_1 = {\"Ava\", \"Emma\", \"James\"}\n",
    "students_2 = {\"James\", \"Mia\", \"Olivia\"}\n",
    "students_3 = {\"Olivia\", \"Sarah\", \"Sophia\"}"
   ]
  },
  {
   "cell_type": "code",
   "execution_count": 37,
   "metadata": {},
   "outputs": [
    {
     "name": "stdout",
     "output_type": "stream",
     "text": [
      "{'James', 'Emma', 'Sophia', 'Olivia', 'Mia', 'Ava', 'Sarah'}\n"
     ]
    }
   ],
   "source": [
    "unioned_students = students_1.union(students_2,students_3)\n",
    "print(unioned_students)"
   ]
  },
  {
   "cell_type": "code",
   "execution_count": 38,
   "metadata": {},
   "outputs": [
    {
     "name": "stdout",
     "output_type": "stream",
     "text": [
      "{'James'}\n"
     ]
    }
   ],
   "source": [
    "print(students_1.intersection(students_2)) #prints elements that are common in both sets"
   ]
  },
  {
   "cell_type": "code",
   "execution_count": 39,
   "metadata": {},
   "outputs": [
    {
     "name": "stdout",
     "output_type": "stream",
     "text": [
      "{'Ava', 'Emma'}\n"
     ]
    }
   ],
   "source": [
    "print(students_1.difference(students_2)) #prints elements that are in set 1 but in set 2"
   ]
  },
  {
   "cell_type": "code",
   "execution_count": 40,
   "metadata": {},
   "outputs": [
    {
     "name": "stdout",
     "output_type": "stream",
     "text": [
      "{'James'}\n"
     ]
    }
   ],
   "source": [
    "students_1.intersection_update(students_2) #updates elements that are in set 1 removing anything that doesn't match set 2\n",
    "print(students_1)"
   ]
  },
  {
   "cell_type": "code",
   "execution_count": 41,
   "metadata": {},
   "outputs": [
    {
     "name": "stdout",
     "output_type": "stream",
     "text": [
      "{'Mia', 'James'}\n"
     ]
    }
   ],
   "source": [
    "students_2.difference_update(students_3) #updates elements that are in set 3 removing anything that matches set 3\n",
    "print(students_2)\n"
   ]
  },
  {
   "cell_type": "code",
   "execution_count": 42,
   "metadata": {},
   "outputs": [
    {
     "name": "stdout",
     "output_type": "stream",
     "text": [
      "Is set 1 completely unique from 2:  False . Is set 1 completely unique from 3:  True\n"
     ]
    }
   ],
   "source": [
    "#isdisjoint tells you if two sets contain matching items or not\n",
    "does_one_match_two = students_1.isdisjoint(students_2)\n",
    "does_one_match_three = students_1.isdisjoint(students_3)\n",
    "print(\"Is set 1 completely unique from 2: \", does_one_match_two, \". Is set 1 completely unique from 3: \", does_one_match_three)"
   ]
  },
  {
   "cell_type": "code",
   "execution_count": 43,
   "metadata": {},
   "outputs": [
    {
     "name": "stdout",
     "output_type": "stream",
     "text": [
      "Is set 1 a subset of set 2:  True . Is set 1 a subset of set 3:  False\n"
     ]
    }
   ],
   "source": [
    "#issubset\n",
    "test_1 = {10,20}\n",
    "test_2 = {10,20,30}\n",
    "test_3 = {10,30,40}\n",
    "is_one_a_subset_of_two = test_1.issubset(test_2)\n",
    "is_one_a_subset_of_three = test_1.issubset(test_3)\n",
    "print(\"Is set 1 a subset of set 2: \", is_one_a_subset_of_two, \". Is set 1 a subset of set 3: \", is_one_a_subset_of_three)"
   ]
  },
  {
   "cell_type": "code",
   "execution_count": 44,
   "metadata": {},
   "outputs": [
    {
     "name": "stdout",
     "output_type": "stream",
     "text": [
      "Is set 2 a superset of set 1:  True . Is set 3 a superset of set 1:  False\n"
     ]
    }
   ],
   "source": [
    "#issuperset\n",
    "test_1 = {10,20}\n",
    "test_2 = {10,20,30}\n",
    "test_3 = {10,30,40}\n",
    "is_two_a_subset_of_one = test_1.issubset(test_2)\n",
    "is_three_a_subset_of_one = test_1.issubset(test_3)\n",
    "print(\"Is set 2 a superset of set 1: \", is_two_a_subset_of_one, \". Is set 3 a superset of set 1: \", is_three_a_subset_of_one)"
   ]
  }
 ],
 "metadata": {
  "kernelspec": {
   "display_name": "Python 3",
   "language": "python",
   "name": "python3"
  },
  "language_info": {
   "codemirror_mode": {
    "name": "ipython",
    "version": 3
   },
   "file_extension": ".py",
   "mimetype": "text/x-python",
   "name": "python",
   "nbconvert_exporter": "python",
   "pygments_lexer": "ipython3",
   "version": "3.12.3"
  }
 },
 "nbformat": 4,
 "nbformat_minor": 2
}
