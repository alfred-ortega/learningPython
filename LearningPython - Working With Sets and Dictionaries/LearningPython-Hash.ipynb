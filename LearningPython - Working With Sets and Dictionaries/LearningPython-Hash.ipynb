{
 "cells": [
  {
   "cell_type": "code",
   "execution_count": 3,
   "metadata": {},
   "outputs": [
    {
     "name": "stdout",
     "output_type": "stream",
     "text": [
      "3a493efd9a17900ff05f9ffb26b72cac93b917cc2bb2e969fc7b23c79c5faae3\n"
     ]
    }
   ],
   "source": [
    "import hashlib\n",
    "data = 'Alfred Ortega'\n",
    "data_bytes = data.encode('utf-8')\n",
    "secure_me = hashlib.sha256(data_bytes).hexdigest()\n",
    "print(secure_me)"
   ]
  }
 ],
 "metadata": {
  "kernelspec": {
   "display_name": "Python 3",
   "language": "python",
   "name": "python3"
  },
  "language_info": {
   "codemirror_mode": {
    "name": "ipython",
    "version": 3
   },
   "file_extension": ".py",
   "mimetype": "text/x-python",
   "name": "python",
   "nbconvert_exporter": "python",
   "pygments_lexer": "ipython3",
   "version": "3.12.3"
  }
 },
 "nbformat": 4,
 "nbformat_minor": 2
}
