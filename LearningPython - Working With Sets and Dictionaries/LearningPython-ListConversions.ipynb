{
 "cells": [
  {
   "cell_type": "code",
   "execution_count": 1,
   "metadata": {},
   "outputs": [
    {
     "name": "stdout",
     "output_type": "stream",
     "text": [
      "['Leo', 18, 'Aaron', 25, 'Easton', 34, 'Jordan', 30]\n"
     ]
    }
   ],
   "source": [
    "my_list = [\"Leo\", 18,\n",
    "           \"Aaron\", 25,\n",
    "           \"Easton\", 34,\n",
    "           \"Jordan\", 30]\n",
    "print(my_list)"
   ]
  },
  {
   "cell_type": "code",
   "execution_count": 2,
   "metadata": {},
   "outputs": [],
   "source": [
    "my_list1 = [[\"Leo\", 18],\n",
    "            [\"Aaron\", 25],\n",
    "            [\"Easton\", 34],\n",
    "            [\"Jordan\", 30]]"
   ]
  },
  {
   "cell_type": "code",
   "execution_count": 5,
   "metadata": {},
   "outputs": [
    {
     "name": "stdout",
     "output_type": "stream",
     "text": [
      "[['Leo', 18], ['Aaron', 25], ['Easton', 34], ['Jordan', 30]]\n",
      "(['Leo', 18], ['Aaron', 25], ['Easton', 34], ['Jordan', 30])\n"
     ]
    }
   ],
   "source": [
    "print(my_list1)            #my_list1 is a list of lists\n",
    "#Expected Output: [['Leo', 18], ['Aaron', 25], ['Easton', 34], ['Jordan', 30]]\n",
    "print(tuple(my_list1))     #tuple converts the list of lists to one row in a tuple with lists as items in the tuple\n",
    "#Expected Output: (['Leo', 18], ['Aaron', 25], ['Easton', 34], ['Jordan', 30])\n",
    "#Note how in the tuple the outer character is a ( vice a ["
   ]
  },
  {
   "cell_type": "code",
   "execution_count": 8,
   "metadata": {},
   "outputs": [
    {
     "name": "stdout",
     "output_type": "stream",
     "text": [
      "{1: 'Caleb', 2: 'Leo', 3: 'Easton', 4: 'Jordan'}\n"
     ]
    }
   ],
   "source": [
    "students_list = [[1,'Caleb'],[2,'Leo'],\n",
    "                 [3, 'Easton'],[4, 'Jordan'] ]\n",
    "print(dict(students_list))  #converts the list into a key value pair"
   ]
  },
  {
   "cell_type": "code",
   "execution_count": 9,
   "metadata": {},
   "outputs": [
    {
     "name": "stdout",
     "output_type": "stream",
     "text": [
      "{1: 'Caleb', 2: 'Leo', 3: 'Easton', 4: ['Jordan', 'Adam']}\n"
     ]
    }
   ],
   "source": [
    "students_list1 = [[1,'Caleb'],[2,'Leo'],\n",
    "                 [3, 'Easton'],[4, ['Jordan','Adam']]]\n",
    "print(dict(students_list1))  #converts the list into a key value pair"
   ]
  },
  {
   "cell_type": "code",
   "execution_count": 18,
   "metadata": {},
   "outputs": [
    {
     "name": "stdout",
     "output_type": "stream",
     "text": [
      "[['Hennessey Venom GT', 1244], ['SSC Ultimate Aero', 1287], ['Zenvo ST1', 1100]]\n",
      "[]\n",
      "{'Hennessey Venom GT': 1244, 'SSC Ultimate Aero': 1287, 'Zenvo ST1': 1100}\n",
      "['Hennessey Venom GT', 'SSC Ultimate Aero', 'Zenvo ST1']\n",
      "[1244, 1287, 1100]\n"
     ]
    }
   ],
   "source": [
    "car_matrix = [[\"Hennessey Venom GT\", 1244],\n",
    "              [\"SSC Ultimate Aero\", 1287],\n",
    "              [\"Zenvo ST1\", 1100]]\n",
    "car_matrix_dict = dict(car_matrix)\n",
    "print(car_matrix)\n",
    "car_matrix.clear()\n",
    "print(car_matrix)\n",
    "print(car_matrix_dict)\n",
    "car_names = list(car_matrix_dict)\n",
    "car_names_full = list(car_matrix_dict.values())\n",
    "print(car_names)\n",
    "print(car_names_full)"
   ]
  }
 ],
 "metadata": {
  "kernelspec": {
   "display_name": "Python 3",
   "language": "python",
   "name": "python3"
  },
  "language_info": {
   "codemirror_mode": {
    "name": "ipython",
    "version": 3
   },
   "file_extension": ".py",
   "mimetype": "text/x-python",
   "name": "python",
   "nbconvert_exporter": "python",
   "pygments_lexer": "ipython3",
   "version": "3.12.3"
  }
 },
 "nbformat": 4,
 "nbformat_minor": 2
}
