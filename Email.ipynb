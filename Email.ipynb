{
 "cells": [
  {
   "cell_type": "code",
   "execution_count": null,
   "metadata": {},
   "outputs": [],
   "source": [
    "from datetime import datetime\n",
    "import pandas as pd\n",
    "\n",
    "def clean_data(df):\n",
    "    # Filter rows based on column: 'From'\n",
    "    df = df[df['From'] != \"Lauren Anderson - IDCCA-C <lauren.a.anderson@gsa.gov>\"]\n",
    "    # Derive column 'DateSent' from column: 'Date'\n",
    "    # Transform based on the following examples:\n",
    "    #    Date                   Output\n",
    "    # 1: 2025-05-08T16:08:52 => \"2025-05-08\"\n",
    "    df.insert(1, \"DateSent\", df.apply(lambda row : row[\"Date\"].strftime(\"%Y-%m-%d\"), axis=1))\n",
    "    # Drop column: 'Date'\n",
    "    df = df.drop(columns=['Date'])\n",
    "    # Filter rows based on column: 'DeptId'\n",
    "    df = df[(df['DeptId'] != \"EXT\") & (df['DeptId'] != \"UNK\")]\n",
    "    # Sort by column: 'DateSent' (ascending)\n",
    "    df = df.sort_values(['DateSent'])\n",
    "    return df\n",
    "\n",
    "# Loaded variable 'df' from URI: c:\\Users\\AlfredOrtega\\Documents\\python\\pandas\\Emails.xlsx\n",
    "df = pd.read_excel(r'c:\\Users\\AlfredOrtega\\Documents\\python\\pandas\\Emails.xlsx')\n",
    "\n",
    "df_clean = clean_data(df.copy())\n",
    "df_clean.head()"
   ]
  }
 ],
 "metadata": {
  "kernelspec": {
   "display_name": "Python 3",
   "language": "python",
   "name": "python3"
  },
  "language_info": {
   "name": "python",
   "version": "3.12.3"
  }
 },
 "nbformat": 4,
 "nbformat_minor": 2
}
